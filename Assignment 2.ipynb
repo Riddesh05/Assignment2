{
 "cells": [
  {
   "cell_type": "markdown",
   "id": "75050675",
   "metadata": {},
   "source": [
    "# Q1"
   ]
  },
  {
   "cell_type": "markdown",
   "id": "459f02db",
   "metadata": {},
   "source": [
    " In python we can store single quote (') as string \n",
    " by using double quotes (\")\n",
    " for example:\n",
    " m = \"’\""
   ]
  },
  {
   "cell_type": "markdown",
   "id": "63becf43",
   "metadata": {},
   "source": []
  },
  {
   "cell_type": "markdown",
   "id": "c047ea19",
   "metadata": {},
   "source": [
    "# Q2"
   ]
  },
  {
   "cell_type": "code",
   "execution_count": 2,
   "id": "4b133243",
   "metadata": {},
   "outputs": [
    {
     "data": {
      "text/plain": [
       "str"
      ]
     },
     "execution_count": 2,
     "metadata": {},
     "output_type": "execute_result"
    }
   ],
   "source": [
    "x=\"a\"\n",
    "print(type(x))"
   ]
  },
  {
   "cell_type": "markdown",
   "id": "8890dad3",
   "metadata": {},
   "source": [
    "we can se x=\"a\" is string type variable and even though you used single quotes, the variable is still considered a string in Python."
   ]
  },
  {
   "cell_type": "markdown",
   "id": "d47c2a0f",
   "metadata": {},
   "source": [
    "# Q3"
   ]
  },
  {
   "cell_type": "code",
   "execution_count": 8,
   "id": "987ace77",
   "metadata": {},
   "outputs": [
    {
     "data": {
      "text/plain": [
       "11"
      ]
     },
     "execution_count": 8,
     "metadata": {},
     "output_type": "execute_result"
    }
   ],
   "source": [
    "v='Welcome to Python founat1on course'\n",
    "v.find(\"P\")"
   ]
  },
  {
   "cell_type": "code",
   "execution_count": 9,
   "id": "9220cdb2",
   "metadata": {},
   "outputs": [
    {
     "data": {
      "text/plain": [
       "2"
      ]
     },
     "execution_count": 9,
     "metadata": {},
     "output_type": "execute_result"
    }
   ],
   "source": [
    "v.count(\"c\")"
   ]
  },
  {
   "cell_type": "code",
   "execution_count": 10,
   "id": "9d06833c",
   "metadata": {},
   "outputs": [
    {
     "data": {
      "text/plain": [
       "34"
      ]
     },
     "execution_count": 10,
     "metadata": {},
     "output_type": "execute_result"
    }
   ],
   "source": [
    "len(v)"
   ]
  },
  {
   "cell_type": "code",
   "execution_count": 12,
   "id": "42527bd0",
   "metadata": {},
   "outputs": [
    {
     "name": "stdout",
     "output_type": "stream",
     "text": [
      "Welcome to Python founat1on course learn Python programming\n"
     ]
    }
   ],
   "source": [
    "v1=\" learn Python programming\"\n",
    "s=v + v1\n",
    "print(s)"
   ]
  },
  {
   "cell_type": "markdown",
   "id": "95b51c44",
   "metadata": {},
   "source": [
    "# Q4"
   ]
  },
  {
   "cell_type": "code",
   "execution_count": 2,
   "id": "4b00e074",
   "metadata": {},
   "outputs": [
    {
     "name": "stdout",
     "output_type": "stream",
     "text": [
      "(a) Total number of alphabets in lowercase: 3\n",
      "(b) Total number of alphabets in uppercase: 2\n",
      "(c) Total number of numerical characters: 5\n"
     ]
    }
   ],
   "source": [
    "word = \"PanaJ1@1225\"\n",
    "l = sum(1 for char in word if char.islower())\n",
    "u = sum(1 for char in word if char.isupper())\n",
    "n = sum(1 for char in word if char.isdigit())\n",
    "\n",
    "# Print the results\n",
    "print(f\"(a) Total number of alphabets in lowercase: {l}\")\n",
    "print(f\"(b) Total number of alphabets in uppercase: {u}\")\n",
    "print(f\"(c) Total number of numerical characters: {n}\")"
   ]
  },
  {
   "cell_type": "markdown",
   "id": "107cd777",
   "metadata": {},
   "source": [
    "# Q5"
   ]
  },
  {
   "cell_type": "code",
   "execution_count": 6,
   "id": "127b3436",
   "metadata": {},
   "outputs": [
    {
     "name": "stdout",
     "output_type": "stream",
     "text": [
      "original numeric values is: 12345\n",
      "new string is: 12345\n"
     ]
    }
   ],
   "source": [
    "a=12345\n",
    "b=str(a)\n",
    "print(\"original numeric values is:\",a)\n",
    "print(\"new string is:\",b)"
   ]
  },
  {
   "cell_type": "code",
   "execution_count": 4,
   "id": "880cfe08",
   "metadata": {},
   "outputs": [
    {
     "data": {
      "text/plain": [
       "str"
      ]
     },
     "execution_count": 4,
     "metadata": {},
     "output_type": "execute_result"
    }
   ],
   "source": [
    "type(b)"
   ]
  },
  {
   "cell_type": "code",
   "execution_count": null,
   "id": "de689213",
   "metadata": {},
   "outputs": [],
   "source": []
  }
 ],
 "metadata": {
  "kernelspec": {
   "display_name": "Python 3 (ipykernel)",
   "language": "python",
   "name": "python3"
  },
  "language_info": {
   "codemirror_mode": {
    "name": "ipython",
    "version": 3
   },
   "file_extension": ".py",
   "mimetype": "text/x-python",
   "name": "python",
   "nbconvert_exporter": "python",
   "pygments_lexer": "ipython3",
   "version": "3.10.9"
  }
 },
 "nbformat": 4,
 "nbformat_minor": 5
}
